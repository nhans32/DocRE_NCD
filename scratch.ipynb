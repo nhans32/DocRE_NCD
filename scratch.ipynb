{
 "cells": [
  {
   "cell_type": "code",
   "execution_count": 2,
   "metadata": {},
   "outputs": [],
   "source": [
    "import torch.nn.functional as F\n",
    "import torch\n",
    "import const"
   ]
  },
  {
   "cell_type": "code",
   "execution_count": 33,
   "metadata": {},
   "outputs": [
    {
     "data": {
      "text/plain": [
       "tensor([0, 0, 0, 1, 1])"
      ]
     },
     "execution_count": 33,
     "metadata": {},
     "output_type": "execute_result"
    }
   ],
   "source": [
    "x = torch.tensor([1.0, 2.0, 3.0, 4.0, 5.0])\n",
    "# mask for x > 3\n",
    "mask = x > 3\n",
    "mask.long()"
   ]
  },
  {
   "cell_type": "code",
   "execution_count": 29,
   "metadata": {},
   "outputs": [
    {
     "data": {
      "text/plain": [
       "(tensor([[0.6285, 0.8788, 0.7594, 0.3864, 0.0241, 0.8997, 0.2038, 0.3077, 0.7559,\n",
       "          0.5350],\n",
       "         [0.4771, 0.1329, 0.3856, 0.1060, 0.3944, 0.8548, 0.0074, 0.2071, 0.5467,\n",
       "          0.9779],\n",
       "         [0.1516, 0.3221, 0.2558, 0.1680, 0.2598, 0.1094, 0.7371, 0.9272, 0.2588,\n",
       "          0.6011]]),\n",
       " tensor([[0.3132, 0.0901, 0.9686, 0.4977, 0.6566, 0.5024, 0.8000, 0.9769, 0.7754,\n",
       "          0.4353],\n",
       "         [0.7683, 0.8182, 0.5016, 0.7702, 0.5113, 0.0496, 0.4986, 0.4898, 0.1801,\n",
       "          0.0707],\n",
       "         [0.0608, 0.4091, 0.4280, 0.1229, 0.5518, 0.5713, 0.5903, 0.3287, 0.5112,\n",
       "          0.4265]]))"
      ]
     },
     "execution_count": 29,
     "metadata": {},
     "output_type": "execute_result"
    }
   ],
   "source": [
    "x1 = torch.rand(3, 10)\n",
    "x2 = torch.rand(3, 10)\n",
    "\n",
    "x1, x2"
   ]
  },
  {
   "cell_type": "code",
   "execution_count": 30,
   "metadata": {},
   "outputs": [
    {
     "data": {
      "text/plain": [
       "(torch.Size([3, 2, 10]),\n",
       " tensor([[[0.6285, 0.8788, 0.7594, 0.3864, 0.0241, 0.8997, 0.2038, 0.3077,\n",
       "           0.7559, 0.5350],\n",
       "          [0.3132, 0.0901, 0.9686, 0.4977, 0.6566, 0.5024, 0.8000, 0.9769,\n",
       "           0.7754, 0.4353]],\n",
       " \n",
       "         [[0.4771, 0.1329, 0.3856, 0.1060, 0.3944, 0.8548, 0.0074, 0.2071,\n",
       "           0.5467, 0.9779],\n",
       "          [0.7683, 0.8182, 0.5016, 0.7702, 0.5113, 0.0496, 0.4986, 0.4898,\n",
       "           0.1801, 0.0707]],\n",
       " \n",
       "         [[0.1516, 0.3221, 0.2558, 0.1680, 0.2598, 0.1094, 0.7371, 0.9272,\n",
       "           0.2588, 0.6011],\n",
       "          [0.0608, 0.4091, 0.4280, 0.1229, 0.5518, 0.5713, 0.5903, 0.3287,\n",
       "           0.5112, 0.4265]]]))"
      ]
     },
     "execution_count": 30,
     "metadata": {},
     "output_type": "execute_result"
    }
   ],
   "source": [
    "out = torch.stack([x1, x2], dim=1)\n",
    "out.shape, out"
   ]
  },
  {
   "cell_type": "code",
   "execution_count": 20,
   "metadata": {},
   "outputs": [
    {
     "data": {
      "text/plain": [
       "(tensor(1.9749), tensor(1.9749))"
      ]
     },
     "execution_count": 20,
     "metadata": {},
     "output_type": "execute_result"
    }
   ],
   "source": [
    "F.cross_entropy(sim_matrix, contr_labels), torch.nn.CrossEntropyLoss()(sim_matrix, contr_labels)   "
   ]
  },
  {
   "cell_type": "code",
   "execution_count": null,
   "metadata": {},
   "outputs": [],
   "source": []
  }
 ],
 "metadata": {
  "kernelspec": {
   "display_name": "venv",
   "language": "python",
   "name": "python3"
  },
  "language_info": {
   "codemirror_mode": {
    "name": "ipython",
    "version": 3
   },
   "file_extension": ".py",
   "mimetype": "text/x-python",
   "name": "python",
   "nbconvert_exporter": "python",
   "pygments_lexer": "ipython3",
   "version": "3.8.5"
  }
 },
 "nbformat": 4,
 "nbformat_minor": 2
}
