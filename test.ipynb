{
 "cells": [
  {
   "cell_type": "code",
   "execution_count": 1,
   "metadata": {},
   "outputs": [
    {
     "data": {
      "text/plain": [
       "True"
      ]
     },
     "execution_count": 1,
     "metadata": {},
     "output_type": "execute_result"
    }
   ],
   "source": [
    "%load_ext autoreload\n",
    "%autoreload 2\n",
    "\n",
    "import os\n",
    "from utils import set_seed\n",
    "import torch\n",
    "\n",
    "set_seed(1234)\n",
    "os.environ['HF_HOME'] = 'hf_cache' # Don't want model files in our home directory due to disk quota\n",
    "\n",
    "torch.cuda.is_available()"
   ]
  },
  {
   "cell_type": "code",
   "execution_count": 2,
   "metadata": {},
   "outputs": [
    {
     "name": "stderr",
     "output_type": "stream",
     "text": [
      "/data2/nhanse02/thesis/venv/lib/python3.8/site-packages/transformers/tokenization_utils_base.py:1601: FutureWarning: `clean_up_tokenization_spaces` was not set. It will be set to `True` by default. This behavior will be depracted in transformers v4.45, and will be then set to `False` by default. For more details check this issue: https://github.com/huggingface/transformers/issues/31884\n",
      "  warnings.warn(\n"
     ]
    }
   ],
   "source": [
    "from transformers import AutoTokenizer\n",
    "import const\n",
    "from model import DocRedModel\n",
    "import json\n",
    "\n",
    "MODEL_NAME = const.LUKE_LARGE_TACRED\n",
    "\n",
    "rel2id = json.load(open('data/meta/rel2id.json'))\n",
    "id2rel = {v: k for k, v in rel2id.items()}\n",
    "tokenizer = AutoTokenizer.from_pretrained(MODEL_NAME, add_prefix_space=True)\n",
    "model = DocRedModel(model_name=MODEL_NAME,\n",
    "                    tokenizer=tokenizer,\n",
    "                    num_class=len(rel2id)).to(const.DEVICE)"
   ]
  },
  {
   "cell_type": "code",
   "execution_count": 3,
   "metadata": {},
   "outputs": [
    {
     "name": "stderr",
     "output_type": "stream",
     "text": [
      "/data2/nhanse02/thesis/data/train_annotated.json: 100%|██████████| 3053/3053 [00:24<00:00, 125.13it/s]\n",
      "/data2/nhanse02/thesis/data/dev.json: 100%|██████████| 998/998 [00:06<00:00, 150.82it/s]\n"
     ]
    }
   ],
   "source": [
    "from utils import read_docred\n",
    "import json\n",
    "\n",
    "train_samples = read_docred(fp='/data2/nhanse02/thesis/data/train_annotated.json', rel2id=rel2id, tokenizer=tokenizer)\n",
    "dev_samples = read_docred(fp='/data2/nhanse02/thesis/data/dev.json', rel2id=rel2id, tokenizer=tokenizer)"
   ]
  },
  {
   "cell_type": "code",
   "execution_count": 4,
   "metadata": {},
   "outputs": [],
   "source": [
    "from torch.utils.data import DataLoader\n",
    "from utils import collate_fn\n",
    "\n",
    "train_dataloader = DataLoader(train_samples, batch_size=4, shuffle=True, collate_fn=collate_fn, drop_last=True)\n",
    "dev_dataloader = DataLoader(dev_samples, batch_size=8, shuffle=False, collate_fn=collate_fn, drop_last=False)"
   ]
  },
  {
   "cell_type": "code",
   "execution_count": 5,
   "metadata": {},
   "outputs": [
    {
     "name": "stderr",
     "output_type": "stream",
     "text": [
      "Train Epoch 1/1: 100%|██████████| 763/763 [07:15<00:00,  1.75batch/s, loss=0.168]\n",
      "Validation: 100%|██████████| 125/125 [00:42<00:00,  2.93batch/s]\n"
     ]
    },
    {
     "name": "stdout",
     "output_type": "stream",
     "text": [
      "Epoch 1/1 F1: 0.5856 F1 Ign: 0.5735\n"
     ]
    }
   ],
   "source": [
    "from train import train\n",
    "\n",
    "train(model=model,\n",
    "      train_dataloader=train_dataloader,\n",
    "      dev_dataloader=dev_dataloader,\n",
    "      dev_samples=dev_samples,\n",
    "      id2rel=id2rel,\n",
    "      num_epochs=1)"
   ]
  }
 ],
 "metadata": {
  "kernelspec": {
   "display_name": "venv",
   "language": "python",
   "name": "python3"
  },
  "language_info": {
   "codemirror_mode": {
    "name": "ipython",
    "version": 3
   },
   "file_extension": ".py",
   "mimetype": "text/x-python",
   "name": "python",
   "nbconvert_exporter": "python",
   "pygments_lexer": "ipython3",
   "version": "3.8.5"
  }
 },
 "nbformat": 4,
 "nbformat_minor": 2
}
