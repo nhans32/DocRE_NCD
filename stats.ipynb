{
 "cells": [
  {
   "cell_type": "code",
   "execution_count": 1,
   "metadata": {},
   "outputs": [
    {
     "name": "stdout",
     "output_type": "stream",
     "text": [
      "Best epoch: 29\n"
     ]
    }
   ],
   "source": [
    "import os\n",
    "import json\n",
    "\n",
    "# Get best checkpoint epoch\n",
    "official_dir = 'out/official/official_base'\n",
    "\n",
    "best_epoch = 30\n",
    "for fn in os.listdir(os.path.join(official_dir, 'checkpoints')):\n",
    "    if 'best-checkpoint' in fn:\n",
    "        best_epoch = int(fn.split('-')[-1].split('.')[0])\n",
    "print(f'Best epoch: {best_epoch}')\n",
    "\n",
    "stats = json.load(open(os.path.join(official_dir, 'stats', 'stats.json')))\n",
    "base_sup_best_epoch_stats = stats[best_epoch-1]"
   ]
  },
  {
   "cell_type": "code",
   "execution_count": 2,
   "metadata": {},
   "outputs": [
    {
     "data": {
      "text/plain": [
       "[['P570', 'P571', 'P569', 'P69', 'P54'],\n",
       " ['P264', 'P400', 'P577', 'P3373', 'P26'],\n",
       " ['P463', 'P361', 'P175', 'P19', 'P495']]"
      ]
     },
     "execution_count": 2,
     "metadata": {},
     "output_type": "execute_result"
    }
   ],
   "source": [
    "holdout_info = json.load(open('out/holdout_info.json'))\n",
    "holdout_batches = [list(x.keys()) for x in holdout_info]\n",
    "holdout_batches"
   ]
  },
  {
   "cell_type": "code",
   "execution_count": 3,
   "metadata": {},
   "outputs": [
    {
     "name": "stdout",
     "output_type": "stream",
     "text": [
      "Best epoch: 30\n",
      "Best epoch: 30\n",
      "Best epoch: 27\n"
     ]
    }
   ],
   "source": [
    "def get_best_epoch_stats(dir):\n",
    "    best_epoch = 30\n",
    "    for fn in os.listdir(os.path.join(dir, 'checkpoints')):\n",
    "        if 'best-checkpoint' in fn:\n",
    "            best_epoch = int(fn.split('-')[-1].split('.')[0])\n",
    "    print(f'Best epoch: {best_epoch}')\n",
    "\n",
    "    stats = json.load(open(os.path.join(dir, 'stats', 'stats.json')))\n",
    "    return stats[best_epoch-1]\n",
    "\n",
    "best_stats_holdout0 = get_best_epoch_stats('out/holdout-batch-0/contr-cand_luke-base_tmp-0.01_supw-0.5_embed-768_norm-True/contr-clust_luke-base_tmp-0.01_supw-0.5_embed-768_norm-True/official_luke-base')\n",
    "best_stats_holdout1 = get_best_epoch_stats('out/holdout-batch-1/contr-cand_luke-base_tmp-0.01_supw-0.5_embed-768_norm-True/contr-clust_luke-base_tmp-0.01_supw-0.5_embed-768_norm-True/official_luke-base')\n",
    "best_stats_holdout2 = get_best_epoch_stats('out/holdout-batch-2/contr-cand_luke-base_tmp-0.01_supw-0.5_embed-768_norm-True/contr-clust_luke-base_tmp-0.01_supw-0.5_embed-768_norm-True/official_luke-base')"
   ]
  },
  {
   "cell_type": "code",
   "execution_count": 4,
   "metadata": {},
   "outputs": [
    {
     "name": "stdout",
     "output_type": "stream",
     "text": [
      "-=-=-=BASE MODEL=-=-=-=-\n",
      "BATCH 0\n",
      "P570 0.8994307350090196 0.8713235293797307 0.9294117646694348\n",
      "P571 0.6013985963861314 0.6515151514657943 0.558441558405296\n",
      "P569 0.9284671482575737 0.9298245613763209 0.9271137025968771\n",
      "P54 0.80701753881673 0.7840909090463585 0.8313253011547393\n",
      "P69 0.7281105941268663 0.63199999994944 0.8586956520805766\n",
      "holdout_macro_f1: 0.7928849225192642\n",
      "other_macro_f1: 0.3832679050728327\n",
      "holdout_macro_prec: 0.773750830243529\n",
      "other_macro_prec: 0.44803330502824507\n",
      "holdout_macro_rec: 0.8209975957813848\n",
      "other_macro_rec: 0.35904588029062867\n",
      "BATCH 1\n",
      "P3373 0.5522388009289375 0.5522388059289374 0.5522388059289374\n",
      "P264 0.643990924704007 0.6960784313384275 0.599156118118179\n",
      "P26 0.4150943345753729 0.42857142851576996 0.402439024341166\n",
      "P577 0.7845036269437001 0.771428571410204 0.7980295566305904\n",
      "P400 0.6478873188563778 0.6301369862150498 0.6666666665700484\n",
      "holdout_macro_f1: 0.608743001201679\n",
      "other_macro_f1: 0.3933855930573154\n",
      "holdout_macro_prec: 0.6156908446816778\n",
      "other_macro_prec: 0.4567179196195555\n",
      "holdout_macro_rec: 0.6037060343177842\n",
      "other_macro_rec: 0.37098497707434297\n",
      "BATCH 2\n",
      "P19 0.8287671182309063 0.8287671232309063 0.8287671232309063\n",
      "P463 0.37073170233337305 0.41304347821597354 0.3362831858109484\n",
      "P175 0.7477203597193299 0.7546012269707177 0.7409638553993685\n",
      "P361 0.3706070240173933 0.48739495794223575 0.29896907214953766\n",
      "P495 0.3096774150110302 0.4897959183173678 0.22641509432894266\n",
      "holdout_macro_f1: 0.5255007238624066\n",
      "other_macro_f1: 0.3979593445594732\n",
      "holdout_macro_prec: 0.5947205409354404\n",
      "other_macro_prec: 0.45787013411110705\n",
      "holdout_macro_rec: 0.4862796661839407\n",
      "other_macro_rec: 0.3774369753234552\n",
      "-=-=-=MODEL HOLDOUT 0=-=-=-=-\n",
      "BATCH 0\n",
      "P69 0.44908615820627323 0.2955326460379542 0.9347826085940454\n",
      "P54 0.6752411525356439 0.7241379309845422 0.6325301204438235\n",
      "P571 0.12778315331714604 0.0750853242312277 0.42857142854359925\n",
      "P570 0.46352940755379934 0.33109243696922536 0.7725490195775471\n",
      "P569 0.5910064193227307 0.46700507613423003 0.8046647230086104\n",
      "holdout_macro_f1: 0.46132925818711873\n",
      "other_macro_f1: 0.3997759570042734\n",
      "holdout_macro_prec: 0.37857068287143586\n",
      "other_macro_prec: 0.46895999190307197\n",
      "holdout_macro_rec: 0.7146195800335251\n",
      "other_macro_rec: 0.3727318980275481\n",
      "-=-=-=MODEL HOLDOUT 1=-=-=-=-\n",
      "BATCH 1\n",
      "P400 0.5691056860387337 0.6481481480281207 0.5072463767380803\n",
      "P26 0.1204819226970535 0.11904761903344672 0.12195121949732303\n",
      "P3373 0.10358565238520048 0.11111111110161444 0.0970149253658944\n",
      "P264 0.3023255770918402 0.48598130836579617 0.21940928269116416\n",
      "P577 0.27388534540788223 0.24067164178655462 0.3177339901399573\n",
      "holdout_macro_f1: 0.27387683672414204\n",
      "other_macro_f1: 0.39213675956436295\n",
      "holdout_macro_prec: 0.3209919656631065\n",
      "other_macro_prec: 0.46030086415299015\n",
      "holdout_macro_rec: 0.25267115888648384\n",
      "other_macro_rec: 0.3650712827925713\n",
      "-=-=-=MODEL HOLDOUT 2=-=-=-=-\n",
      "BATCH 2\n",
      "P463 0.1403508726938205 0.2068965516884661 0.10619469025608898\n",
      "P19 0.3479729692452292 0.23094170403069636 0.705479452006474\n",
      "P495 0.21428570961592983 0.2903225806217482 0.16981132074670702\n",
      "P361 0.08130080822823743 0.06711409395747939 0.10309278349984058\n",
      "P175 0.14795918107325076 0.4833333332527778 0.08734939758773044\n",
      "holdout_macro_f1: 0.18637390817129354\n",
      "other_macro_f1: 0.40467500539709617\n",
      "holdout_macro_prec: 0.25572165271023356\n",
      "other_macro_prec: 0.48132943507672005\n",
      "holdout_macro_rec: 0.2343855288193682\n",
      "other_macro_rec: 0.3799554750884613\n"
     ]
    }
   ],
   "source": [
    "from pprint import pprint\n",
    "def get_batch_stats(epoch_stats, holdout_batches, batch=None):\n",
    "    for i, rel_batch in enumerate(holdout_batches):\n",
    "        if batch is not None and i != batch:\n",
    "            continue\n",
    "\n",
    "        print(f\"BATCH {i}\")\n",
    "        holdout_ct = 0\n",
    "        other_ct = 0\n",
    "\n",
    "        holdout_macro_f1 = 0\n",
    "        other_macro_f1 = 0\n",
    "\n",
    "        holdout_macro_prec = 0\n",
    "        other_macro_prec = 0\n",
    "\n",
    "        holdout_macro_rec = 0\n",
    "        other_macro_rec = 0\n",
    "\n",
    "        for rel, s in epoch_stats['detailed_stats']['rel_stats'].items():\n",
    "            if rel in rel_batch:\n",
    "                holdout_ct += 1\n",
    "                holdout_macro_f1 += s['f1']\n",
    "                holdout_macro_prec += s['precision']\n",
    "                holdout_macro_rec += s['recall']\n",
    "\n",
    "                print(rel, s['f1'], s['precision'], s['recall'])\n",
    "            else:\n",
    "                other_ct += 1\n",
    "                other_macro_f1 += s['f1']\n",
    "                other_macro_prec += s['precision']\n",
    "                other_macro_rec += s['recall']\n",
    "\n",
    "        holdout_macro_f1 /= holdout_ct\n",
    "        other_macro_f1 /= other_ct\n",
    "\n",
    "        holdout_macro_prec /= holdout_ct\n",
    "        other_macro_prec /= other_ct\n",
    "\n",
    "        holdout_macro_rec /= holdout_ct\n",
    "        other_macro_rec /= other_ct\n",
    "\n",
    "        print(f\"holdout_macro_f1: {holdout_macro_f1}\")\n",
    "        print(f\"other_macro_f1: {other_macro_f1}\")\n",
    "\n",
    "        print(f\"holdout_macro_prec: {holdout_macro_prec}\")\n",
    "        print(f\"other_macro_prec: {other_macro_prec}\")\n",
    "\n",
    "        print(f\"holdout_macro_rec: {holdout_macro_rec}\")\n",
    "        print(f\"other_macro_rec: {other_macro_rec}\")\n",
    "\n",
    "print(\"-=-=-=BASE MODEL=-=-=-=-\")\n",
    "get_batch_stats(base_sup_best_epoch_stats, holdout_batches)\n",
    "print(\"-=-=-=MODEL HOLDOUT 0=-=-=-=-\")\n",
    "get_batch_stats(best_stats_holdout0, holdout_batches, batch=0)\n",
    "print(\"-=-=-=MODEL HOLDOUT 1=-=-=-=-\")\n",
    "get_batch_stats(best_stats_holdout1, holdout_batches, batch=1)\n",
    "print(\"-=-=-=MODEL HOLDOUT 2=-=-=-=-\")\n",
    "get_batch_stats(best_stats_holdout2, holdout_batches, batch=2)"
   ]
  }
 ],
 "metadata": {
  "kernelspec": {
   "display_name": "venv",
   "language": "python",
   "name": "python3"
  },
  "language_info": {
   "codemirror_mode": {
    "name": "ipython",
    "version": 3
   },
   "file_extension": ".py",
   "mimetype": "text/x-python",
   "name": "python",
   "nbconvert_exporter": "python",
   "pygments_lexer": "ipython3",
   "version": "3.8.5"
  }
 },
 "nbformat": 4,
 "nbformat_minor": 2
}
