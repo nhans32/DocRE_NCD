{
 "cells": [
  {
   "cell_type": "code",
   "execution_count": null,
   "metadata": {},
   "outputs": [],
   "source": [
    "import torch\n",
    "\n",
    "x = torch.tensor([[1, 2, 3],\n",
    "                 [4, 5, 6]])\n",
    "\n",
    "x.sum(dim=0)"
   ]
  },
  {
   "cell_type": "code",
   "execution_count": null,
   "metadata": {},
   "outputs": [],
   "source": [
    "mask = torch.tensor([0, 1, 0, 0, 1, 1, 1, 0, 1, 0, 0, 1])\n",
    "nonzero = mask.nonzero().flatten()\n",
    "torch.randperm(nonzero.size(0))"
   ]
  },
  {
   "cell_type": "code",
   "execution_count": 1,
   "metadata": {},
   "outputs": [],
   "source": [
    "from umap import UMAP"
   ]
  },
  {
   "cell_type": "code",
   "execution_count": null,
   "metadata": {},
   "outputs": [],
   "source": [
    "import matplotlib.pyplot as plt\n",
    "import torch\n",
    "\n",
    "# fake 2d data\n",
    "\n",
    "data = torch.randn(100, 2)\n",
    "\n",
    "plt.figure(figsize=(10, 10))\n",
    "plt.title(\"Contrastive Embedding Space\")\n",
    "\n",
    "plt.scatter(data[:, 0], data[:, 1], s=0.5, c='black', label=f'True Neg.')\n",
    "plt.legend(markerscale=8)\n",
    "plt.show()"
   ]
  },
  {
   "cell_type": "code",
   "execution_count": null,
   "metadata": {},
   "outputs": [],
   "source": [
    "import json\n",
    "\n",
    "dic = {'a': 1, 'b': 2, 'c': 3, 'd': {'e': 'f'}}\n",
    "\n",
    "# print dictionary in json format\n",
    "\n",
    "print(json.dumps(dic, indent=2))"
   ]
  },
  {
   "cell_type": "code",
   "execution_count": null,
   "metadata": {},
   "outputs": [],
   "source": [
    "import torch\n",
    "\n",
    "neg_mask = torch.tensor([0, 1, 1, 0, 1, 0, 0, 1])\n",
    "neg_mask_nonzeros = neg_mask.nonzero().flatten()\n",
    "print(neg_mask)\n",
    "print(neg_mask.sum())\n",
    "\n",
    "print('----')\n",
    "neg_mask[neg_mask_nonzeros[torch.randperm(neg_mask_nonzeros.size(0))[:3]]] = False\n",
    "print(neg_mask)\n",
    "print(neg_mask.sum())\n"
   ]
  },
  {
   "cell_type": "code",
   "execution_count": null,
   "metadata": {},
   "outputs": [],
   "source": [
    "import torch\n",
    "\n",
    "torch.tensor([1, 2, 3]).to('cuda:0')"
   ]
  },
  {
   "cell_type": "code",
   "execution_count": null,
   "metadata": {},
   "outputs": [],
   "source": [
    "!nvidia-smi"
   ]
  }
 ],
 "metadata": {
  "kernelspec": {
   "display_name": "venv",
   "language": "python",
   "name": "python3"
  },
  "language_info": {
   "codemirror_mode": {
    "name": "ipython",
    "version": 3
   },
   "file_extension": ".py",
   "mimetype": "text/x-python",
   "name": "python",
   "nbconvert_exporter": "python",
   "pygments_lexer": "ipython3",
   "version": "3.8.5"
  }
 },
 "nbformat": 4,
 "nbformat_minor": 2
}
