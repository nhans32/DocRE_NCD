{
 "cells": [
  {
   "cell_type": "code",
   "execution_count": null,
   "metadata": {},
   "outputs": [],
   "source": [
    "%load_ext autoreload\n",
    "%autoreload 2\n",
    "\n",
    "import os\n",
    "from utils import set_seed\n",
    "import torch\n",
    "\n",
    "set_seed(1234)\n",
    "os.environ['HF_HOME'] = 'hf_cache' # Don't want model files in our home directory due to disk quota\n",
    "\n",
    "torch.cuda.is_available()"
   ]
  },
  {
   "cell_type": "code",
   "execution_count": null,
   "metadata": {},
   "outputs": [],
   "source": [
    "from transformers import LukeTokenizer\n",
    "import const\n",
    "from model import DocRedModel\n",
    "import json\n",
    "\n",
    "MODEL_NAME = const.LUKE_BASE\n",
    "MODE = const.MODE_CONTRASTIVE\n",
    "EPOCHS = 10\n",
    "CONTRASTIVE_TMP = 0.01 # This is only used when mode = contrastive\n",
    "\n",
    "out_dir = os.path.join('out', 'holdout-batch-0', f\"{MODEL_NAME.split('/')[-1]}_{MODE}\")\n",
    "if MODE == const.MODE_CONTRASTIVE:\n",
    "    out_dir += f'-tmp-{CONTRASTIVE_TMP}'\n",
    "print(out_dir)\n",
    "\n",
    "rel2id_original = json.load(open('data/meta/rel2id.json'))\n",
    "id2rel_original = {v: k for k, v in rel2id_original.items()}\n",
    "tokenizer = LukeTokenizer.from_pretrained(MODEL_NAME, add_prefix_space=True) # Prefix space since we are doing word-level tokenization in read_docred (docred is weird)"
   ]
  },
  {
   "cell_type": "code",
   "execution_count": null,
   "metadata": {},
   "outputs": [],
   "source": [
    "from utils import read_docred\n",
    "import json\n",
    "\n",
    "train_samples = read_docred(fp='data/train_annotated.json', rel2id=rel2id_original, tokenizer=tokenizer)\n",
    "dev_samples = read_docred(fp='data/dev.json', rel2id=rel2id_original, tokenizer=tokenizer)"
   ]
  },
  {
   "cell_type": "code",
   "execution_count": null,
   "metadata": {},
   "outputs": [],
   "source": [
    "from utils import get_holdouts, remove_holdouts\n",
    "\n",
    "holdout_rel_batches, holdout_id_batches = get_holdouts(train_samples=train_samples,\n",
    "                                                       dev_samples=dev_samples,\n",
    "                                                       rel2id=rel2id_original,\n",
    "                                                       id2rel=id2rel_original)\n",
    "\n",
    "holdout_rels, holdout_ids = holdout_rel_batches[0], holdout_id_batches[0]\n",
    "train_samples, rel2id_holdout, id2rel_holdout = remove_holdouts(samples=train_samples,\n",
    "                                                                holdout_rels=holdout_rels, # NOTE: only testing with first batch\n",
    "                                                                rel2id=rel2id_original,\n",
    "                                                                id2rel=id2rel_original)\n",
    "holdout_rels"
   ]
  },
  {
   "cell_type": "code",
   "execution_count": null,
   "metadata": {},
   "outputs": [],
   "source": [
    "from torch.utils.data import DataLoader\n",
    "from utils import collate_fn\n",
    "from train import train\n",
    "\n",
    "train_dataloader = DataLoader(train_samples, batch_size=4, shuffle=True, collate_fn=collate_fn, drop_last=True) # Should we move to DataParallel?\n",
    "dev_dataloader = DataLoader(dev_samples, batch_size=8, shuffle=False, collate_fn=collate_fn, drop_last=False)\n",
    "\n",
    "model = DocRedModel(model_name=MODEL_NAME,\n",
    "                    tokenizer=tokenizer,\n",
    "                    num_class=len(rel2id_holdout),\n",
    "                    contrastive_tmp=CONTRASTIVE_TMP).to(const.DEVICE)\n",
    "\n",
    "train(model=model,\n",
    "      train_dataloader=train_dataloader,\n",
    "      dev_dataloader=dev_dataloader,\n",
    "      train_samples=train_samples,\n",
    "      dev_samples=dev_samples,\n",
    "      id2rel_holdout=id2rel_holdout,\n",
    "      id2rel_original=id2rel_original,\n",
    "      num_epochs=EPOCHS,\n",
    "      mode=MODE,\n",
    "      out_dir=out_dir)"
   ]
  }
 ],
 "metadata": {
  "kernelspec": {
   "display_name": "venv",
   "language": "python",
   "name": "python3"
  },
  "language_info": {
   "codemirror_mode": {
    "name": "ipython",
    "version": 3
   },
   "file_extension": ".py",
   "mimetype": "text/x-python",
   "name": "python",
   "nbconvert_exporter": "python",
   "pygments_lexer": "ipython3",
   "version": "3.8.5"
  }
 },
 "nbformat": 4,
 "nbformat_minor": 2
}
