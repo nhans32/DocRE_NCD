{
 "cells": [
  {
   "cell_type": "code",
   "execution_count": 6,
   "metadata": {},
   "outputs": [
    {
     "name": "stdout",
     "output_type": "stream",
     "text": [
      "The autoreload extension is already loaded. To reload it, use:\n",
      "  %reload_ext autoreload\n"
     ]
    },
    {
     "data": {
      "text/plain": [
       "True"
      ]
     },
     "execution_count": 6,
     "metadata": {},
     "output_type": "execute_result"
    }
   ],
   "source": [
    "%load_ext autoreload\n",
    "%autoreload 2\n",
    "\n",
    "import os\n",
    "from utils import set_seed\n",
    "import torch\n",
    "\n",
    "set_seed(1234)\n",
    "os.environ['HF_HOME'] = 'hf_cache' # Don't want model files in our home directory due to disk quota\n",
    "\n",
    "torch.cuda.is_available()"
   ]
  },
  {
   "cell_type": "code",
   "execution_count": 7,
   "metadata": {},
   "outputs": [
    {
     "name": "stderr",
     "output_type": "stream",
     "text": [
      "/data2/nhanse02/thesis/venv/lib/python3.8/site-packages/transformers/tokenization_utils_base.py:1601: FutureWarning: `clean_up_tokenization_spaces` was not set. It will be set to `True` by default. This behavior will be depracted in transformers v4.45, and will be then set to `False` by default. For more details check this issue: https://github.com/huggingface/transformers/issues/31884\n",
      "  warnings.warn(\n"
     ]
    }
   ],
   "source": [
    "from transformers import LukeTokenizer\n",
    "import const\n",
    "from model import DocRedModel\n",
    "import json\n",
    "\n",
    "MODEL_NAME = const.LUKE_LARGE\n",
    "\n",
    "rel2id = json.load(open('data/meta/rel2id.json'))\n",
    "id2rel = {v: k for k, v in rel2id.items()}\n",
    "tokenizer = LukeTokenizer.from_pretrained(MODEL_NAME, add_prefix_space=True)\n",
    "model = DocRedModel(model_name=MODEL_NAME,\n",
    "                    tokenizer=tokenizer,\n",
    "                    num_class=len(rel2id)).to(const.DEVICE)"
   ]
  },
  {
   "cell_type": "code",
   "execution_count": 8,
   "metadata": {},
   "outputs": [
    {
     "name": "stderr",
     "output_type": "stream",
     "text": [
      "/data2/nhanse02/thesis/data/train_annotated.json: 100%|██████████| 3053/3053 [00:21<00:00, 140.01it/s]\n",
      "/data2/nhanse02/thesis/data/dev.json: 100%|██████████| 998/998 [00:08<00:00, 121.84it/s]\n"
     ]
    }
   ],
   "source": [
    "from utils import read_docred\n",
    "import json\n",
    "\n",
    "train_samples = read_docred(fp='/data2/nhanse02/thesis/data/train_annotated.json', rel2id=rel2id, tokenizer=tokenizer)\n",
    "dev_samples = read_docred(fp='/data2/nhanse02/thesis/data/dev.json', rel2id=rel2id, tokenizer=tokenizer)"
   ]
  },
  {
   "cell_type": "code",
   "execution_count": 9,
   "metadata": {},
   "outputs": [],
   "source": [
    "from torch.utils.data import DataLoader\n",
    "from utils import collate_fn\n",
    "\n",
    "train_dataloader = DataLoader(train_samples, batch_size=4, shuffle=True, collate_fn=collate_fn, drop_last=True)\n",
    "dev_dataloader = DataLoader(dev_samples, batch_size=8, shuffle=False, collate_fn=collate_fn, drop_last=False)"
   ]
  },
  {
   "cell_type": "code",
   "execution_count": 10,
   "metadata": {},
   "outputs": [
    {
     "name": "stderr",
     "output_type": "stream",
     "text": [
      "Train Epoch 1/30: 100%|██████████| 763/763 [07:15<00:00,  1.75batch/s, cur_loss=0.106, run_loss=0.524] \n",
      "Validation: 100%|██████████| 125/125 [00:44<00:00,  2.82batch/s]\n"
     ]
    },
    {
     "name": "stdout",
     "output_type": "stream",
     "text": [
      "Epoch 1/30 F1: 0.5179 F1 Ign: 0.5013\n"
     ]
    },
    {
     "name": "stderr",
     "output_type": "stream",
     "text": [
      "Train Epoch 2/30: 100%|██████████| 763/763 [07:07<00:00,  1.78batch/s, cur_loss=0.0539, run_loss=0.097] \n",
      "Validation: 100%|██████████| 125/125 [00:46<00:00,  2.69batch/s]\n"
     ]
    },
    {
     "name": "stdout",
     "output_type": "stream",
     "text": [
      "Epoch 2/30 F1: 0.5106 F1 Ign: 0.4912\n"
     ]
    },
    {
     "name": "stderr",
     "output_type": "stream",
     "text": [
      "Train Epoch 3/30: 100%|██████████| 763/763 [07:04<00:00,  1.80batch/s, cur_loss=0.135, run_loss=0.0839] \n",
      "Validation: 100%|██████████| 125/125 [00:44<00:00,  2.80batch/s]\n"
     ]
    },
    {
     "name": "stdout",
     "output_type": "stream",
     "text": [
      "Epoch 3/30 F1: 0.5350 F1 Ign: 0.5198\n"
     ]
    },
    {
     "name": "stderr",
     "output_type": "stream",
     "text": [
      "Train Epoch 4/30: 100%|██████████| 763/763 [07:05<00:00,  1.79batch/s, cur_loss=0.0462, run_loss=0.07]  \n",
      "Validation: 100%|██████████| 125/125 [00:44<00:00,  2.82batch/s]\n"
     ]
    },
    {
     "name": "stdout",
     "output_type": "stream",
     "text": [
      "Epoch 4/30 F1: 0.5554 F1 Ign: 0.5399\n"
     ]
    },
    {
     "name": "stderr",
     "output_type": "stream",
     "text": [
      "Train Epoch 5/30: 100%|██████████| 763/763 [07:06<00:00,  1.79batch/s, cur_loss=0.0347, run_loss=0.0589]\n",
      "Validation: 100%|██████████| 125/125 [00:43<00:00,  2.90batch/s]\n"
     ]
    },
    {
     "name": "stdout",
     "output_type": "stream",
     "text": [
      "Epoch 5/30 F1: 0.5539 F1 Ign: 0.5435\n"
     ]
    },
    {
     "name": "stderr",
     "output_type": "stream",
     "text": [
      "Train Epoch 6/30: 100%|██████████| 763/763 [07:05<00:00,  1.79batch/s, cur_loss=0.0669, run_loss=0.0513] \n",
      "Validation: 100%|██████████| 125/125 [00:44<00:00,  2.80batch/s]\n"
     ]
    },
    {
     "name": "stdout",
     "output_type": "stream",
     "text": [
      "Epoch 6/30 F1: 0.6043 F1 Ign: 0.5819\n"
     ]
    },
    {
     "name": "stderr",
     "output_type": "stream",
     "text": [
      "Train Epoch 7/30: 100%|██████████| 763/763 [07:08<00:00,  1.78batch/s, cur_loss=0.0278, run_loss=0.0444]\n",
      "Validation: 100%|██████████| 125/125 [00:46<00:00,  2.71batch/s]\n"
     ]
    },
    {
     "name": "stdout",
     "output_type": "stream",
     "text": [
      "Epoch 7/30 F1: 0.5981 F1 Ign: 0.5764\n"
     ]
    },
    {
     "name": "stderr",
     "output_type": "stream",
     "text": [
      "Train Epoch 8/30: 100%|██████████| 763/763 [07:04<00:00,  1.80batch/s, cur_loss=0.0263, run_loss=0.0389] \n",
      "Validation: 100%|██████████| 125/125 [00:44<00:00,  2.82batch/s]\n"
     ]
    },
    {
     "name": "stdout",
     "output_type": "stream",
     "text": [
      "Epoch 8/30 F1: 0.6013 F1 Ign: 0.5775\n"
     ]
    },
    {
     "name": "stderr",
     "output_type": "stream",
     "text": [
      "Train Epoch 9/30: 100%|██████████| 763/763 [07:05<00:00,  1.79batch/s, cur_loss=0.0365, run_loss=0.0334] \n",
      "Validation: 100%|██████████| 125/125 [00:45<00:00,  2.77batch/s]\n"
     ]
    },
    {
     "name": "stdout",
     "output_type": "stream",
     "text": [
      "Epoch 9/30 F1: 0.6018 F1 Ign: 0.5800\n"
     ]
    },
    {
     "name": "stderr",
     "output_type": "stream",
     "text": [
      "Train Epoch 10/30: 100%|██████████| 763/763 [07:04<00:00,  1.80batch/s, cur_loss=0.0198, run_loss=0.029]  \n",
      "Validation: 100%|██████████| 125/125 [00:42<00:00,  2.92batch/s]\n"
     ]
    },
    {
     "name": "stdout",
     "output_type": "stream",
     "text": [
      "Epoch 10/30 F1: 0.6036 F1 Ign: 0.5833\n"
     ]
    },
    {
     "name": "stderr",
     "output_type": "stream",
     "text": [
      "Train Epoch 11/30: 100%|██████████| 763/763 [07:05<00:00,  1.79batch/s, cur_loss=0.0234, run_loss=0.0253] \n",
      "Validation: 100%|██████████| 125/125 [00:42<00:00,  2.91batch/s]\n"
     ]
    },
    {
     "name": "stdout",
     "output_type": "stream",
     "text": [
      "Epoch 11/30 F1: 0.6064 F1 Ign: 0.5864\n"
     ]
    },
    {
     "name": "stderr",
     "output_type": "stream",
     "text": [
      "Train Epoch 12/30: 100%|██████████| 763/763 [07:04<00:00,  1.80batch/s, cur_loss=0.0116, run_loss=0.0222] \n",
      "Validation: 100%|██████████| 125/125 [00:43<00:00,  2.88batch/s]\n"
     ]
    },
    {
     "name": "stdout",
     "output_type": "stream",
     "text": [
      "Epoch 12/30 F1: 0.6095 F1 Ign: 0.5905\n"
     ]
    },
    {
     "name": "stderr",
     "output_type": "stream",
     "text": [
      "Train Epoch 13/30: 100%|██████████| 763/763 [07:05<00:00,  1.80batch/s, cur_loss=0.0133, run_loss=0.0191] \n",
      "Validation: 100%|██████████| 125/125 [00:44<00:00,  2.78batch/s]\n"
     ]
    },
    {
     "name": "stdout",
     "output_type": "stream",
     "text": [
      "Epoch 13/30 F1: 0.6127 F1 Ign: 0.5920\n"
     ]
    },
    {
     "name": "stderr",
     "output_type": "stream",
     "text": [
      "Train Epoch 14/30: 100%|██████████| 763/763 [06:58<00:00,  1.82batch/s, cur_loss=0.0236, run_loss=0.0175] \n",
      "Validation: 100%|██████████| 125/125 [00:42<00:00,  2.91batch/s]\n"
     ]
    },
    {
     "name": "stdout",
     "output_type": "stream",
     "text": [
      "Epoch 14/30 F1: 0.6145 F1 Ign: 0.5945\n"
     ]
    },
    {
     "name": "stderr",
     "output_type": "stream",
     "text": [
      "Train Epoch 15/30: 100%|██████████| 763/763 [07:00<00:00,  1.81batch/s, cur_loss=0.00377, run_loss=0.0151]\n",
      "Validation: 100%|██████████| 125/125 [00:43<00:00,  2.86batch/s]\n"
     ]
    },
    {
     "name": "stdout",
     "output_type": "stream",
     "text": [
      "Epoch 15/30 F1: 0.6146 F1 Ign: 0.5941\n"
     ]
    },
    {
     "name": "stderr",
     "output_type": "stream",
     "text": [
      "Train Epoch 16/30: 100%|██████████| 763/763 [07:06<00:00,  1.79batch/s, cur_loss=0.00913, run_loss=0.0137]\n",
      "Validation: 100%|██████████| 125/125 [00:47<00:00,  2.61batch/s]\n"
     ]
    },
    {
     "name": "stdout",
     "output_type": "stream",
     "text": [
      "Epoch 16/30 F1: 0.6125 F1 Ign: 0.5914\n"
     ]
    },
    {
     "name": "stderr",
     "output_type": "stream",
     "text": [
      "Train Epoch 17/30: 100%|██████████| 763/763 [07:04<00:00,  1.80batch/s, cur_loss=0.00824, run_loss=0.0122] \n",
      "Validation: 100%|██████████| 125/125 [00:43<00:00,  2.87batch/s]\n"
     ]
    },
    {
     "name": "stdout",
     "output_type": "stream",
     "text": [
      "Epoch 17/30 F1: 0.6147 F1 Ign: 0.5966\n"
     ]
    },
    {
     "name": "stderr",
     "output_type": "stream",
     "text": [
      "Train Epoch 18/30: 100%|██████████| 763/763 [07:06<00:00,  1.79batch/s, cur_loss=0.0166, run_loss=0.0112]  \n",
      "Validation: 100%|██████████| 125/125 [00:43<00:00,  2.86batch/s]\n"
     ]
    },
    {
     "name": "stdout",
     "output_type": "stream",
     "text": [
      "Epoch 18/30 F1: 0.6154 F1 Ign: 0.5942\n"
     ]
    },
    {
     "name": "stderr",
     "output_type": "stream",
     "text": [
      "Train Epoch 19/30: 100%|██████████| 763/763 [07:02<00:00,  1.81batch/s, cur_loss=0.00712, run_loss=0.0102] \n",
      "Validation: 100%|██████████| 125/125 [00:43<00:00,  2.90batch/s]\n"
     ]
    },
    {
     "name": "stdout",
     "output_type": "stream",
     "text": [
      "Epoch 19/30 F1: 0.6222 F1 Ign: 0.6040\n"
     ]
    },
    {
     "name": "stderr",
     "output_type": "stream",
     "text": [
      "Train Epoch 20/30: 100%|██████████| 763/763 [07:03<00:00,  1.80batch/s, cur_loss=0.0125, run_loss=0.00952]  \n",
      "Validation: 100%|██████████| 125/125 [00:43<00:00,  2.88batch/s]\n"
     ]
    },
    {
     "name": "stdout",
     "output_type": "stream",
     "text": [
      "Epoch 20/30 F1: 0.6179 F1 Ign: 0.5982\n"
     ]
    },
    {
     "name": "stderr",
     "output_type": "stream",
     "text": [
      "Train Epoch 21/30: 100%|██████████| 763/763 [07:03<00:00,  1.80batch/s, cur_loss=0.0158, run_loss=0.00836]  \n",
      "Validation: 100%|██████████| 125/125 [00:42<00:00,  2.92batch/s]\n"
     ]
    },
    {
     "name": "stdout",
     "output_type": "stream",
     "text": [
      "Epoch 21/30 F1: 0.6237 F1 Ign: 0.6058\n"
     ]
    },
    {
     "name": "stderr",
     "output_type": "stream",
     "text": [
      "Train Epoch 22/30: 100%|██████████| 763/763 [07:05<00:00,  1.79batch/s, cur_loss=0.0124, run_loss=0.00762]  \n",
      "Validation: 100%|██████████| 125/125 [00:44<00:00,  2.83batch/s]\n"
     ]
    },
    {
     "name": "stdout",
     "output_type": "stream",
     "text": [
      "Epoch 22/30 F1: 0.6216 F1 Ign: 0.6038\n"
     ]
    },
    {
     "name": "stderr",
     "output_type": "stream",
     "text": [
      "Train Epoch 23/30: 100%|██████████| 763/763 [07:03<00:00,  1.80batch/s, cur_loss=0.00942, run_loss=0.00709] \n",
      "Validation: 100%|██████████| 125/125 [00:42<00:00,  2.92batch/s]\n"
     ]
    },
    {
     "name": "stdout",
     "output_type": "stream",
     "text": [
      "Epoch 23/30 F1: 0.6245 F1 Ign: 0.6047\n"
     ]
    },
    {
     "name": "stderr",
     "output_type": "stream",
     "text": [
      "Train Epoch 24/30: 100%|██████████| 763/763 [07:04<00:00,  1.80batch/s, cur_loss=0.0132, run_loss=0.00666]  \n",
      "Validation: 100%|██████████| 125/125 [00:45<00:00,  2.73batch/s]\n"
     ]
    },
    {
     "name": "stdout",
     "output_type": "stream",
     "text": [
      "Epoch 24/30 F1: 0.6280 F1 Ign: 0.6088\n"
     ]
    },
    {
     "name": "stderr",
     "output_type": "stream",
     "text": [
      "Train Epoch 25/30: 100%|██████████| 763/763 [07:04<00:00,  1.80batch/s, cur_loss=0.00877, run_loss=0.006]   \n",
      "Validation: 100%|██████████| 125/125 [00:42<00:00,  2.92batch/s]\n"
     ]
    },
    {
     "name": "stdout",
     "output_type": "stream",
     "text": [
      "Epoch 25/30 F1: 0.6301 F1 Ign: 0.6112\n"
     ]
    },
    {
     "name": "stderr",
     "output_type": "stream",
     "text": [
      "Train Epoch 26/30: 100%|██████████| 763/763 [07:06<00:00,  1.79batch/s, cur_loss=0.00775, run_loss=0.00559] \n",
      "Validation: 100%|██████████| 125/125 [00:42<00:00,  2.91batch/s]\n"
     ]
    },
    {
     "name": "stdout",
     "output_type": "stream",
     "text": [
      "Epoch 26/30 F1: 0.6310 F1 Ign: 0.6120\n"
     ]
    },
    {
     "name": "stderr",
     "output_type": "stream",
     "text": [
      "Train Epoch 27/30: 100%|██████████| 763/763 [07:02<00:00,  1.81batch/s, cur_loss=0.00525, run_loss=0.00512] \n",
      "Validation: 100%|██████████| 125/125 [00:44<00:00,  2.78batch/s]\n"
     ]
    },
    {
     "name": "stdout",
     "output_type": "stream",
     "text": [
      "Epoch 27/30 F1: 0.6314 F1 Ign: 0.6133\n"
     ]
    },
    {
     "name": "stderr",
     "output_type": "stream",
     "text": [
      "Train Epoch 28/30: 100%|██████████| 763/763 [07:03<00:00,  1.80batch/s, cur_loss=0.00426, run_loss=0.00471] \n",
      "Validation: 100%|██████████| 125/125 [00:42<00:00,  2.93batch/s]\n"
     ]
    },
    {
     "name": "stdout",
     "output_type": "stream",
     "text": [
      "Epoch 28/30 F1: 0.6313 F1 Ign: 0.6126\n"
     ]
    },
    {
     "name": "stderr",
     "output_type": "stream",
     "text": [
      "Train Epoch 29/30: 100%|██████████| 763/763 [07:01<00:00,  1.81batch/s, cur_loss=0.00309, run_loss=0.00443] \n",
      "Validation: 100%|██████████| 125/125 [00:42<00:00,  2.93batch/s]\n"
     ]
    },
    {
     "name": "stdout",
     "output_type": "stream",
     "text": [
      "Epoch 29/30 F1: 0.6329 F1 Ign: 0.6140\n"
     ]
    },
    {
     "name": "stderr",
     "output_type": "stream",
     "text": [
      "Train Epoch 30/30: 100%|██████████| 763/763 [07:04<00:00,  1.80batch/s, cur_loss=0.00407, run_loss=0.00408] \n",
      "Validation: 100%|██████████| 125/125 [00:46<00:00,  2.71batch/s]\n"
     ]
    },
    {
     "name": "stdout",
     "output_type": "stream",
     "text": [
      "Epoch 30/30 F1: 0.6333 F1 Ign: 0.6149\n"
     ]
    }
   ],
   "source": [
    "from train import train\n",
    "\n",
    "train(model=model,\n",
    "      train_dataloader=train_dataloader,\n",
    "      dev_dataloader=dev_dataloader,\n",
    "      dev_samples=dev_samples,\n",
    "      id2rel=id2rel,\n",
    "      num_epochs=30)"
   ]
  }
 ],
 "metadata": {
  "kernelspec": {
   "display_name": "venv",
   "language": "python",
   "name": "python3"
  },
  "language_info": {
   "codemirror_mode": {
    "name": "ipython",
    "version": 3
   },
   "file_extension": ".py",
   "mimetype": "text/x-python",
   "name": "python",
   "nbconvert_exporter": "python",
   "pygments_lexer": "ipython3",
   "version": "3.8.5"
  }
 },
 "nbformat": 4,
 "nbformat_minor": 2
}
