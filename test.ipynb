{
 "cells": [
  {
   "cell_type": "code",
   "execution_count": 1,
   "metadata": {},
   "outputs": [
    {
     "data": {
      "text/plain": [
       "True"
      ]
     },
     "execution_count": 1,
     "metadata": {},
     "output_type": "execute_result"
    }
   ],
   "source": [
    "%load_ext autoreload\n",
    "%autoreload 2\n",
    "\n",
    "import os\n",
    "from utils import set_seed\n",
    "import torch\n",
    "\n",
    "set_seed(1234)\n",
    "os.environ['HF_HOME'] = 'hf_cache' # Don't want model files in our home directory due to disk quota\n",
    "\n",
    "torch.cuda.is_available()"
   ]
  },
  {
   "cell_type": "code",
   "execution_count": 2,
   "metadata": {},
   "outputs": [
    {
     "name": "stderr",
     "output_type": "stream",
     "text": [
      "/data2/nhanse02/thesis/venv/lib/python3.8/site-packages/transformers/tokenization_utils_base.py:1601: FutureWarning: `clean_up_tokenization_spaces` was not set. It will be set to `True` by default. This behavior will be depracted in transformers v4.45, and will be then set to `False` by default. For more details check this issue: https://github.com/huggingface/transformers/issues/31884\n",
      "  warnings.warn(\n"
     ]
    }
   ],
   "source": [
    "from transformers import LukeTokenizer\n",
    "import const\n",
    "from model import DocRedModel\n",
    "import json\n",
    "\n",
    "MODEL_NAME = const.LUKE_LARGE\n",
    "\n",
    "rel2id = json.load(open('data/meta/rel2id.json'))\n",
    "id2rel = {v: k for k, v in rel2id.items()}\n",
    "tokenizer = LukeTokenizer.from_pretrained(MODEL_NAME, add_prefix_space=True) # Prefix space since we are doing word-level tokenization in read_docred (docred is weird)"
   ]
  },
  {
   "cell_type": "code",
   "execution_count": 3,
   "metadata": {},
   "outputs": [
    {
     "name": "stderr",
     "output_type": "stream",
     "text": [
      "/data2/nhanse02/thesis/data/train_annotated.json: 100%|██████████| 3053/3053 [00:22<00:00, 138.39it/s]\n",
      "/data2/nhanse02/thesis/data/dev.json: 100%|██████████| 998/998 [00:07<00:00, 136.02it/s]\n"
     ]
    }
   ],
   "source": [
    "from utils import read_docred\n",
    "import json\n",
    "\n",
    "train_samples = read_docred(fp='data/train_annotated.json', rel2id=rel2id, tokenizer=tokenizer)\n",
    "dev_samples = read_docred(fp='data/dev.json', rel2id=rel2id, tokenizer=tokenizer)"
   ]
  },
  {
   "cell_type": "code",
   "execution_count": 5,
   "metadata": {},
   "outputs": [],
   "source": [
    "from utils import get_holdouts, remove_holdouts\n",
    "\n",
    "holdout_rel_batches, holdout_id_batches = get_holdouts(train_samples=train_samples,\n",
    "                                                       dev_samples=dev_samples,\n",
    "                                                       rel2id=rel2id,\n",
    "                                                       id2rel=id2rel)\n",
    "\n",
    "\n",
    "holdout_rels, holdout_ids = holdout_rel_batches[0], holdout_id_batches[0] \n",
    "train_samples, rel2id_holdout, id2rel_holdout = remove_holdouts(samples=train_samples,\n",
    "                                                                holdout_rels=holdout_rels, # NOTE: only testing with first batch\n",
    "                                                                rel2id=rel2id,\n",
    "                                                                id2rel=id2rel)"
   ]
  }
 ],
 "metadata": {
  "kernelspec": {
   "display_name": "venv",
   "language": "python",
   "name": "python3"
  },
  "language_info": {
   "codemirror_mode": {
    "name": "ipython",
    "version": 3
   },
   "file_extension": ".py",
   "mimetype": "text/x-python",
   "name": "python",
   "nbconvert_exporter": "python",
   "pygments_lexer": "ipython3",
   "version": "3.8.5"
  }
 },
 "nbformat": 4,
 "nbformat_minor": 2
}
