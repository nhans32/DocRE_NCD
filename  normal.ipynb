{
 "cells": [
  {
   "cell_type": "code",
   "execution_count": 1,
   "metadata": {},
   "outputs": [
    {
     "data": {
      "text/plain": [
       "True"
      ]
     },
     "execution_count": 1,
     "metadata": {},
     "output_type": "execute_result"
    }
   ],
   "source": [
    "%load_ext autoreload\n",
    "%autoreload 2\n",
    "\n",
    "import os\n",
    "from utils import set_seed\n",
    "import torch\n",
    "\n",
    "set_seed(1234)\n",
    "os.environ['HF_HOME'] = 'hf_cache' # Don't want model files in our home directory due to disk quota\n",
    "\n",
    "torch.cuda.is_available()"
   ]
  },
  {
   "cell_type": "code",
   "execution_count": 2,
   "metadata": {},
   "outputs": [
    {
     "name": "stderr",
     "output_type": "stream",
     "text": [
      "/data2/nhanse02/thesis/venv/lib/python3.8/site-packages/transformers/tokenization_utils_base.py:1601: FutureWarning: `clean_up_tokenization_spaces` was not set. It will be set to `True` by default. This behavior will be depracted in transformers v4.45, and will be then set to `False` by default. For more details check this issue: https://github.com/huggingface/transformers/issues/31884\n",
      "  warnings.warn(\n"
     ]
    }
   ],
   "source": [
    "from transformers import LukeTokenizer\n",
    "import const\n",
    "from model import DocRedModel\n",
    "import json\n",
    "\n",
    "MODEL_NAME = const.LUKE_LARGE\n",
    "\n",
    "rel2id = json.load(open('data/meta/rel2id.json'))\n",
    "id2rel = {v: k for k, v in rel2id.items()}\n",
    "tokenizer = LukeTokenizer.from_pretrained(MODEL_NAME, add_prefix_space=True) # Prefix space since we are doing word-level tokenization in read_docred (docred is weird)\n",
    "model = DocRedModel(model_name=MODEL_NAME,\n",
    "                    tokenizer=tokenizer,\n",
    "                    num_class=len(rel2id)).to(const.DEVICE)"
   ]
  },
  {
   "cell_type": "code",
   "execution_count": 3,
   "metadata": {},
   "outputs": [
    {
     "name": "stderr",
     "output_type": "stream",
     "text": [
      "/data2/nhanse02/thesis/data/train_annotated.json: 100%|██████████| 3053/3053 [00:22<00:00, 136.23it/s]\n",
      "/data2/nhanse02/thesis/data/dev.json: 100%|██████████| 998/998 [00:06<00:00, 152.62it/s]\n"
     ]
    }
   ],
   "source": [
    "from utils import read_docred\n",
    "import json\n",
    "\n",
    "train_samples = read_docred(fp='/data2/nhanse02/thesis/data/train_annotated.json', rel2id=rel2id, tokenizer=tokenizer)\n",
    "dev_samples = read_docred(fp='/data2/nhanse02/thesis/data/dev.json', rel2id=rel2id, tokenizer=tokenizer)"
   ]
  },
  {
   "cell_type": "code",
   "execution_count": 4,
   "metadata": {},
   "outputs": [],
   "source": [
    "from torch.utils.data import DataLoader\n",
    "from utils import collate_fn\n",
    "\n",
    "train_dataloader = DataLoader(train_samples, batch_size=4, shuffle=True, collate_fn=collate_fn, drop_last=True)\n",
    "dev_dataloader = DataLoader(dev_samples, batch_size=8, shuffle=False, collate_fn=collate_fn, drop_last=False)"
   ]
  },
  {
   "cell_type": "code",
   "execution_count": 5,
   "metadata": {},
   "outputs": [
    {
     "name": "stderr",
     "output_type": "stream",
     "text": [
      "Train Epoch 1/30: 100%|██████████| 763/763 [07:05<00:00,  1.79batch/s, cur_loss=0.109, run_loss=0.311] \n",
      "Validation: 100%|██████████| 125/125 [00:44<00:00,  2.83batch/s]\n"
     ]
    },
    {
     "name": "stdout",
     "output_type": "stream",
     "text": [
      "Epoch 1/30 F1: 0.4178 F1 Ign: 0.4108\n"
     ]
    },
    {
     "name": "stderr",
     "output_type": "stream",
     "text": [
      "Train Epoch 2/30: 100%|██████████| 763/763 [07:06<00:00,  1.79batch/s, cur_loss=0.0813, run_loss=0.103] \n",
      "Validation: 100%|██████████| 125/125 [00:43<00:00,  2.87batch/s]\n"
     ]
    },
    {
     "name": "stdout",
     "output_type": "stream",
     "text": [
      "Epoch 2/30 F1: 0.5249 F1 Ign: 0.5094\n"
     ]
    },
    {
     "name": "stderr",
     "output_type": "stream",
     "text": [
      "Train Epoch 3/30: 100%|██████████| 763/763 [07:07<00:00,  1.79batch/s, cur_loss=0.0878, run_loss=0.0868]\n",
      "Validation: 100%|██████████| 125/125 [00:44<00:00,  2.83batch/s]\n"
     ]
    },
    {
     "name": "stdout",
     "output_type": "stream",
     "text": [
      "Epoch 3/30 F1: 0.5326 F1 Ign: 0.5146\n"
     ]
    },
    {
     "name": "stderr",
     "output_type": "stream",
     "text": [
      "Train Epoch 4/30: 100%|██████████| 763/763 [07:09<00:00,  1.78batch/s, cur_loss=0.0341, run_loss=0.0738]\n",
      "Validation: 100%|██████████| 125/125 [00:45<00:00,  2.77batch/s]\n"
     ]
    },
    {
     "name": "stdout",
     "output_type": "stream",
     "text": [
      "Epoch 4/30 F1: 0.5612 F1 Ign: 0.5394\n"
     ]
    },
    {
     "name": "stderr",
     "output_type": "stream",
     "text": [
      "Train Epoch 5/30: 100%|██████████| 763/763 [07:11<00:00,  1.77batch/s, cur_loss=0.0395, run_loss=0.0631]\n",
      "Validation: 100%|██████████| 125/125 [00:45<00:00,  2.72batch/s]\n"
     ]
    },
    {
     "name": "stdout",
     "output_type": "stream",
     "text": [
      "Epoch 5/30 F1: 0.5863 F1 Ign: 0.5667\n"
     ]
    },
    {
     "name": "stderr",
     "output_type": "stream",
     "text": [
      "Train Epoch 6/30: 100%|██████████| 763/763 [06:52<00:00,  1.85batch/s, cur_loss=0.0459, run_loss=0.0552]\n",
      "Validation: 100%|██████████| 125/125 [00:45<00:00,  2.74batch/s]\n"
     ]
    },
    {
     "name": "stdout",
     "output_type": "stream",
     "text": [
      "Epoch 6/30 F1: 0.5920 F1 Ign: 0.5671\n"
     ]
    },
    {
     "name": "stderr",
     "output_type": "stream",
     "text": [
      "Train Epoch 7/30: 100%|██████████| 763/763 [07:09<00:00,  1.78batch/s, cur_loss=0.0622, run_loss=0.0475]\n",
      "Validation: 100%|██████████| 125/125 [00:43<00:00,  2.86batch/s]\n"
     ]
    },
    {
     "name": "stdout",
     "output_type": "stream",
     "text": [
      "Epoch 7/30 F1: 0.5943 F1 Ign: 0.5690\n"
     ]
    },
    {
     "name": "stderr",
     "output_type": "stream",
     "text": [
      "Train Epoch 8/30: 100%|██████████| 763/763 [07:10<00:00,  1.77batch/s, cur_loss=0.0443, run_loss=0.0409] \n",
      "Validation: 100%|██████████| 125/125 [00:44<00:00,  2.83batch/s]\n"
     ]
    },
    {
     "name": "stdout",
     "output_type": "stream",
     "text": [
      "Epoch 8/30 F1: 0.5940 F1 Ign: 0.5730\n"
     ]
    },
    {
     "name": "stderr",
     "output_type": "stream",
     "text": [
      "Train Epoch 9/30: 100%|██████████| 763/763 [07:09<00:00,  1.78batch/s, cur_loss=0.0257, run_loss=0.034]  \n",
      "Validation: 100%|██████████| 125/125 [00:45<00:00,  2.76batch/s]\n"
     ]
    },
    {
     "name": "stdout",
     "output_type": "stream",
     "text": [
      "Epoch 9/30 F1: 0.6119 F1 Ign: 0.5920\n"
     ]
    },
    {
     "name": "stderr",
     "output_type": "stream",
     "text": [
      "Train Epoch 10/30: 100%|██████████| 763/763 [07:12<00:00,  1.76batch/s, cur_loss=0.0348, run_loss=0.0295] \n",
      "Validation: 100%|██████████| 125/125 [00:45<00:00,  2.78batch/s]\n"
     ]
    },
    {
     "name": "stdout",
     "output_type": "stream",
     "text": [
      "Epoch 10/30 F1: 0.5971 F1 Ign: 0.5800\n"
     ]
    },
    {
     "name": "stderr",
     "output_type": "stream",
     "text": [
      "Train Epoch 11/30: 100%|██████████| 763/763 [07:11<00:00,  1.77batch/s, cur_loss=0.0137, run_loss=0.025]  \n",
      "Validation: 100%|██████████| 125/125 [00:44<00:00,  2.83batch/s]\n"
     ]
    },
    {
     "name": "stdout",
     "output_type": "stream",
     "text": [
      "Epoch 11/30 F1: 0.6000 F1 Ign: 0.5815\n"
     ]
    },
    {
     "name": "stderr",
     "output_type": "stream",
     "text": [
      "Train Epoch 12/30: 100%|██████████| 763/763 [07:10<00:00,  1.77batch/s, cur_loss=0.0455, run_loss=0.022]  \n",
      "Validation: 100%|██████████| 125/125 [00:43<00:00,  2.84batch/s]\n"
     ]
    },
    {
     "name": "stdout",
     "output_type": "stream",
     "text": [
      "Epoch 12/30 F1: 0.6005 F1 Ign: 0.5833\n"
     ]
    },
    {
     "name": "stderr",
     "output_type": "stream",
     "text": [
      "Train Epoch 13/30: 100%|██████████| 763/763 [07:05<00:00,  1.79batch/s, cur_loss=0.0267, run_loss=0.0187] \n",
      "Validation: 100%|██████████| 125/125 [00:42<00:00,  2.93batch/s]\n"
     ]
    },
    {
     "name": "stdout",
     "output_type": "stream",
     "text": [
      "Epoch 13/30 F1: 0.6131 F1 Ign: 0.5922\n"
     ]
    },
    {
     "name": "stderr",
     "output_type": "stream",
     "text": [
      "Train Epoch 14/30: 100%|██████████| 763/763 [07:07<00:00,  1.78batch/s, cur_loss=0.0147, run_loss=0.0174] \n",
      "Validation: 100%|██████████| 125/125 [00:43<00:00,  2.90batch/s]\n"
     ]
    },
    {
     "name": "stdout",
     "output_type": "stream",
     "text": [
      "Epoch 14/30 F1: 0.6122 F1 Ign: 0.5917\n"
     ]
    },
    {
     "name": "stderr",
     "output_type": "stream",
     "text": [
      "Train Epoch 15/30: 100%|██████████| 763/763 [07:08<00:00,  1.78batch/s, cur_loss=0.0164, run_loss=0.0153] \n",
      "Validation: 100%|██████████| 125/125 [00:43<00:00,  2.87batch/s]\n"
     ]
    },
    {
     "name": "stdout",
     "output_type": "stream",
     "text": [
      "Epoch 15/30 F1: 0.6060 F1 Ign: 0.5862\n"
     ]
    },
    {
     "name": "stderr",
     "output_type": "stream",
     "text": [
      "Train Epoch 16/30: 100%|██████████| 763/763 [07:08<00:00,  1.78batch/s, cur_loss=0.0155, run_loss=0.0137] \n",
      "Validation: 100%|██████████| 125/125 [00:42<00:00,  2.95batch/s]\n"
     ]
    },
    {
     "name": "stdout",
     "output_type": "stream",
     "text": [
      "Epoch 16/30 F1: 0.6100 F1 Ign: 0.5932\n"
     ]
    },
    {
     "name": "stderr",
     "output_type": "stream",
     "text": [
      "Train Epoch 17/30: 100%|██████████| 763/763 [07:07<00:00,  1.79batch/s, cur_loss=0.00231, run_loss=0.0119] \n",
      "Validation: 100%|██████████| 125/125 [00:43<00:00,  2.87batch/s]\n"
     ]
    },
    {
     "name": "stdout",
     "output_type": "stream",
     "text": [
      "Epoch 17/30 F1: 0.6179 F1 Ign: 0.5970\n"
     ]
    },
    {
     "name": "stderr",
     "output_type": "stream",
     "text": [
      "Train Epoch 18/30: 100%|██████████| 763/763 [07:06<00:00,  1.79batch/s, cur_loss=0.0148, run_loss=0.0112]  \n",
      "Validation: 100%|██████████| 125/125 [00:42<00:00,  2.91batch/s]\n"
     ]
    },
    {
     "name": "stdout",
     "output_type": "stream",
     "text": [
      "Epoch 18/30 F1: 0.6212 F1 Ign: 0.6021\n"
     ]
    },
    {
     "name": "stderr",
     "output_type": "stream",
     "text": [
      "Train Epoch 19/30: 100%|██████████| 763/763 [07:08<00:00,  1.78batch/s, cur_loss=0.00669, run_loss=0.0101] \n",
      "Validation: 100%|██████████| 125/125 [00:43<00:00,  2.88batch/s]\n"
     ]
    },
    {
     "name": "stdout",
     "output_type": "stream",
     "text": [
      "Epoch 19/30 F1: 0.6250 F1 Ign: 0.6048\n"
     ]
    },
    {
     "name": "stderr",
     "output_type": "stream",
     "text": [
      "Train Epoch 20/30: 100%|██████████| 763/763 [07:10<00:00,  1.77batch/s, cur_loss=0.0112, run_loss=0.00904]  \n",
      "Validation: 100%|██████████| 125/125 [00:43<00:00,  2.85batch/s]\n"
     ]
    },
    {
     "name": "stdout",
     "output_type": "stream",
     "text": [
      "Epoch 20/30 F1: 0.6247 F1 Ign: 0.6068\n"
     ]
    },
    {
     "name": "stderr",
     "output_type": "stream",
     "text": [
      "Train Epoch 21/30: 100%|██████████| 763/763 [07:14<00:00,  1.76batch/s, cur_loss=0.00286, run_loss=0.00852] \n",
      "Validation: 100%|██████████| 125/125 [00:42<00:00,  2.92batch/s]\n"
     ]
    },
    {
     "name": "stdout",
     "output_type": "stream",
     "text": [
      "Epoch 21/30 F1: 0.6268 F1 Ign: 0.6089\n"
     ]
    },
    {
     "name": "stderr",
     "output_type": "stream",
     "text": [
      "Train Epoch 22/30: 100%|██████████| 763/763 [07:09<00:00,  1.78batch/s, cur_loss=0.008, run_loss=0.00753]   \n",
      "Validation: 100%|██████████| 125/125 [00:46<00:00,  2.71batch/s]\n"
     ]
    },
    {
     "name": "stdout",
     "output_type": "stream",
     "text": [
      "Epoch 22/30 F1: 0.6291 F1 Ign: 0.6082\n"
     ]
    },
    {
     "name": "stderr",
     "output_type": "stream",
     "text": [
      "Train Epoch 23/30: 100%|██████████| 763/763 [07:11<00:00,  1.77batch/s, cur_loss=0.00574, run_loss=0.00701] \n",
      "Validation: 100%|██████████| 125/125 [00:45<00:00,  2.73batch/s]\n"
     ]
    },
    {
     "name": "stdout",
     "output_type": "stream",
     "text": [
      "Epoch 23/30 F1: 0.6244 F1 Ign: 0.6064\n"
     ]
    },
    {
     "name": "stderr",
     "output_type": "stream",
     "text": [
      "Train Epoch 24/30: 100%|██████████| 763/763 [07:09<00:00,  1.78batch/s, cur_loss=0.000482, run_loss=0.00656]\n",
      "Validation: 100%|██████████| 125/125 [00:42<00:00,  2.92batch/s]\n"
     ]
    },
    {
     "name": "stdout",
     "output_type": "stream",
     "text": [
      "Epoch 24/30 F1: 0.6288 F1 Ign: 0.6108\n"
     ]
    },
    {
     "name": "stderr",
     "output_type": "stream",
     "text": [
      "Train Epoch 25/30: 100%|██████████| 763/763 [07:08<00:00,  1.78batch/s, cur_loss=0.00776, run_loss=0.00603] \n",
      "Validation: 100%|██████████| 125/125 [00:42<00:00,  2.92batch/s]\n"
     ]
    },
    {
     "name": "stdout",
     "output_type": "stream",
     "text": [
      "Epoch 25/30 F1: 0.6296 F1 Ign: 0.6114\n"
     ]
    },
    {
     "name": "stderr",
     "output_type": "stream",
     "text": [
      "Train Epoch 26/30: 100%|██████████| 763/763 [07:08<00:00,  1.78batch/s, cur_loss=0.00811, run_loss=0.00543] \n",
      "Validation: 100%|██████████| 125/125 [00:42<00:00,  2.93batch/s]\n"
     ]
    },
    {
     "name": "stdout",
     "output_type": "stream",
     "text": [
      "Epoch 26/30 F1: 0.6334 F1 Ign: 0.6149\n"
     ]
    },
    {
     "name": "stderr",
     "output_type": "stream",
     "text": [
      "Train Epoch 27/30: 100%|██████████| 763/763 [07:05<00:00,  1.79batch/s, cur_loss=0.00103, run_loss=0.00504] \n",
      "Validation: 100%|██████████| 125/125 [00:43<00:00,  2.89batch/s]\n"
     ]
    },
    {
     "name": "stdout",
     "output_type": "stream",
     "text": [
      "Epoch 27/30 F1: 0.6310 F1 Ign: 0.6134\n"
     ]
    },
    {
     "name": "stderr",
     "output_type": "stream",
     "text": [
      "Train Epoch 28/30: 100%|██████████| 763/763 [07:08<00:00,  1.78batch/s, cur_loss=0.00335, run_loss=0.00461] \n",
      "Validation: 100%|██████████| 125/125 [00:43<00:00,  2.86batch/s]\n"
     ]
    },
    {
     "name": "stdout",
     "output_type": "stream",
     "text": [
      "Epoch 28/30 F1: 0.6326 F1 Ign: 0.6148\n"
     ]
    },
    {
     "name": "stderr",
     "output_type": "stream",
     "text": [
      "Train Epoch 29/30: 100%|██████████| 763/763 [07:10<00:00,  1.77batch/s, cur_loss=0.00685, run_loss=0.0043]  \n",
      "Validation: 100%|██████████| 125/125 [00:42<00:00,  2.92batch/s]\n"
     ]
    },
    {
     "name": "stdout",
     "output_type": "stream",
     "text": [
      "Epoch 29/30 F1: 0.6348 F1 Ign: 0.6166\n"
     ]
    },
    {
     "name": "stderr",
     "output_type": "stream",
     "text": [
      "Train Epoch 30/30: 100%|██████████| 763/763 [07:08<00:00,  1.78batch/s, cur_loss=0.00419, run_loss=0.004]   \n",
      "Validation: 100%|██████████| 125/125 [00:44<00:00,  2.83batch/s]\n"
     ]
    },
    {
     "name": "stdout",
     "output_type": "stream",
     "text": [
      "Epoch 30/30 F1: 0.6336 F1 Ign: 0.6156\n"
     ]
    }
   ],
   "source": [
    "from train import train\n",
    "\n",
    "train(model=model,\n",
    "      train_dataloader=train_dataloader,\n",
    "      dev_dataloader=dev_dataloader,\n",
    "      dev_samples=dev_samples,\n",
    "      id2rel=id2rel,\n",
    "      num_epochs=30)"
   ]
  }
 ],
 "metadata": {
  "kernelspec": {
   "display_name": "venv",
   "language": "python",
   "name": "python3"
  },
  "language_info": {
   "codemirror_mode": {
    "name": "ipython",
    "version": 3
   },
   "file_extension": ".py",
   "mimetype": "text/x-python",
   "name": "python",
   "nbconvert_exporter": "python",
   "pygments_lexer": "ipython3",
   "version": "3.8.5"
  }
 },
 "nbformat": 4,
 "nbformat_minor": 2
}
